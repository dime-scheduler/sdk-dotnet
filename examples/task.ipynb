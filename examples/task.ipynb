{
  "cells": [
    {
      "cell_type": "markdown",
      "metadata": {},
      "source": [
        "# Creating a task in Dime.Scheduler with the SDK\n",
        "\n",
        "Check out the [📚 official docs](https://docs.dimescheduler.com/) for more information.\n",
        "\n",
        "## What we will do\n",
        "\n",
        "This notebook is an interactive guide that will you show you to create a task in Dime.Scheduler. \n",
        "\n",
        "## What is a task\n",
        "\n",
        "A **task** is a unit of work that needs to be scheduled, and as such it could be anything:\n",
        "\n",
        "- Send a technician to the customer to fix the broken A/C\n",
        "- Assign a consultant to a project that you just sold\n",
        "- Manufacture a batch of orange juice\n",
        "- Assemble a bicycle\n",
        "- Rent out a piece of equipment\n",
        "\n",
        "**Tasks** are the low-level units of work, and they always belong to a **job**, which is the Dime.Scheduler equivalent of a service order, project, assembly order, sales order, etc. Jobs container master data such as customer information, contact information, addresses, etc.\n",
        "\n",
        "In what follows is a step-by-step guide that shows you how to use the SDK to create jobs and tasks. "
      ]
    },
    {
      "cell_type": "markdown",
      "metadata": {},
      "source": [
        "## Step 1: Retrieving the bits and bytes\n",
        "\n",
        "All logic to interact with Dime.Scheduler is contained in the `Dime.Scheduler.Sdk` NuGet package, which is available [here](https://www.nuget.org/packages/Dime.Scheduler.Sdk/). The instruction below will fetch this package, which we will invoke once it's been downloaded."
      ]
    },
    {
      "cell_type": "code",
      "execution_count": null,
      "metadata": {
        "dotnet_interactive": {
          "language": "csharp"
        },
        "vscode": {
          "languageId": "csharp"
        }
      },
      "outputs": [
        {
          "data": {
            "text/html": [
              "<div><div></div><div></div><div><strong>Installed Packages</strong><ul><li><span>Dime.Scheduler.Sdk, 1.0.0-beta.12</span></li></ul></div></div>"
            ]
          },
          "execution_count": 1,
          "metadata": {},
          "output_type": "execute_result"
        }
      ],
      "source": [
        "#r \"nuget:Dime.Scheduler.Sdk, 2.0.0-alpha.18\""
      ]
    },
    {
      "cell_type": "markdown",
      "metadata": {},
      "source": [
        "## Step 2: Adding references to the SDK\n",
        "\n",
        "Now that the package is loaded, we can start having some fun.  We'll start by adding a reference to the SDK in the code, so the compiler knows what we're talking about:"
      ]
    },
    {
      "cell_type": "code",
      "execution_count": null,
      "metadata": {
        "dotnet_interactive": {
          "language": "csharp"
        },
        "vscode": {
          "languageId": "csharp"
        }
      },
      "outputs": [],
      "source": [
        "using Dime.Scheduler.Sdk;"
      ]
    },
    {
      "cell_type": "markdown",
      "metadata": {},
      "source": [
        "## Step 3: Instantiating the DimeSchedulerClient class\n",
        "\n",
        "The only requirement is to have a Dime.Scheduler API, which you can generate in the app. \n",
        "An optional override in `DimeSchedulerClient` makes it possible to change environment."
      ]
    },
    {
      "cell_type": "code",
      "execution_count": 1,
      "metadata": {
        "dotnet_interactive": {
          "language": "csharp"
        },
        "vscode": {
          "languageId": "csharp"
        }
      },
      "outputs": [],
      "source": [
        "string key = \"DS-49WHSIU3W-6QQ6C3Z8-QVSJRG2P-PVI6HW\";\n",
        "DimeSchedulerClient client = new DimeSchedulerClient(\"https://test.api.dimescheduler.com\", key);"
      ]
    },
    {
      "cell_type": "markdown",
      "metadata": {},
      "source": [
        "## Step 4: Constructing the request\n",
        "\n",
        "The SDK contains all the models you can interact with as C# classes. Just pick the model of interest and instantiate it with the right set of properties.\n",
        "\n",
        "To create a task, we actually need to provide two entities:\n",
        "\n",
        "- The **job**, which holds a set of tasks. Think of a job as a project and a task of one of the many activities that need to be done to finish the project\n",
        "- The *task* itself, which must refer to a job that is already available in Dime.Scheduler\n",
        "\n",
        "A job, therefore, is not always necessary. If the job is already available, you may skip step 5A, but make sure to use the correct `JobNo` value in step 5B."
      ]
    },
    {
      "cell_type": "markdown",
      "metadata": {},
      "source": [
        "### Step 4A: Creating a job\n",
        "\n",
        "The job model contains a lot of information. So much that we've created a `JobBuilder` class to facilitate the creation of these objects. \n",
        "Most of the fields speak for themselves, although we should highlight the following three fields:\n",
        "\n",
        "- **Source App**: this is a unique identifier that tells to which back-office system this job (and the subsequent tasks) belongs to.\n",
        "- **Source Type**: this is a unique identifier that tells the underlying back-office system what module this job (and the subsequent tasks) belongs to\n",
        "- **Job No**: this is a unique identifier which must exist in Dime.Scheduler before a task can be created."
      ]
    },
    {
      "cell_type": "code",
      "execution_count": 1,
      "metadata": {
        "dotnet_interactive": {
          "language": "csharp"
        },
        "vscode": {
          "languageId": "csharp"
        }
      },
      "outputs": [],
      "source": [
        "using Dime.Scheduler.Sdk.Import;\n",
        "using Dime.Scheduler.Sdk.Import.Builder;\n",
        "\n",
        "string sourceApp = \"NOTEBOOK\";\n",
        "string sourceType = \"SERVICE\";\n",
        "\n",
        "Job newJobToCreate = new JobBuilder()\n",
        "    .WithJob(sourceApp, sourceType, \"NB0001\", \"Yearly maintenance & repair job\", \"Yearly service\", \"Simon Pecker\")\n",
        "    .WithCustomer(new Customer\n",
        "    {\n",
        "        Email = \"hq@customer.com\",\n",
        "        Name = \"HQ London\",\n",
        "        No = \"HQ_LONDON\",\n",
        "        Phone = \"123 423 091\",\n",
        "        Reference = \"REF\"\n",
        "    })\n",
        "    .Create();"
      ]
    },
    {
      "cell_type": "markdown",
      "metadata": {},
      "source": [
        "The last step is to invoke the request and let the API do its job."
      ]
    },
    {
      "cell_type": "code",
      "execution_count": 1,
      "metadata": {
        "dotnet_interactive": {
          "language": "csharp"
        },
        "vscode": {
          "languageId": "csharp"
        }
      },
      "outputs": [],
      "source": [
        "await client.Jobs.CreateAsync(newJobToCreate);"
      ]
    },
    {
      "cell_type": "markdown",
      "metadata": {},
      "source": [
        "### Step 4B: Creating a task\n",
        "\n",
        "Once the job is created, we can go ahead and link a task to that job. It is important that the source app, type, and job no link to the right job. And lastly, the **Task No** field is an unique identifier that can be used by both Dime.Scheduler and the back-office system so they understand this is the same task."
      ]
    },
    {
      "cell_type": "code",
      "execution_count": 1,
      "metadata": {
        "dotnet_interactive": {
          "language": "csharp"
        },
        "vscode": {
          "languageId": "csharp"
        }
      },
      "outputs": [],
      "source": [
        "Task newTaskToCreate = new Task() \n",
        "{\n",
        "\tSourceApp = sourceApp,\n",
        "\tSourceType = sourceType,\n",
        "\tJobNo = \"NB0001\", // There must be a job in the database that holds this value\n",
        "\tTaskNo = \"NO0001_2022_ROOM6\",\n",
        "\tDescription= \"Service air conditioning in room #6\",\n",
        "\tShortDescription= \"Service air conditioning in room #6\"\n",
        "};"
      ]
    },
    {
      "cell_type": "markdown",
      "metadata": {},
      "source": [
        "And finally, invoke the request:"
      ]
    },
    {
      "cell_type": "code",
      "execution_count": 1,
      "metadata": {
        "dotnet_interactive": {
          "language": "csharp"
        },
        "vscode": {
          "languageId": "csharp"
        }
      },
      "outputs": [],
      "source": [
        "await client.Tasks.CreateAsync(newJobToCreate);"
      ]
    },
    {
      "cell_type": "markdown",
      "metadata": {},
      "source": [
        "So there you go, you've just created a task in Dime.Scheduler and should be now available in the open task list. So now it's time to stop puzzling and start planning!"
      ]
    }
  ],
  "metadata": {
    "kernelspec": {
      "display_name": ".NET (C#)",
      "language": "C#",
      "name": ".net-csharp"
    },
    "language_info": {
      "file_extension": ".cs",
      "mimetype": "text/x-csharp",
      "name": "C#",
      "pygments_lexer": "csharp",
      "version": "8.0"
    }
  },
  "nbformat": 4,
  "nbformat_minor": 4
}
