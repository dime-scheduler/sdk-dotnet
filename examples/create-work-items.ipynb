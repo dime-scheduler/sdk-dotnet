{
  "cells": [
    {
      "cell_type": "markdown",
      "metadata": {},
      "source": [
        "# Creating a task in Dime.Scheduler with the SDK\n",
        "\n",
        "Check out the [\uD83D\uDCDA docs »](https://sdk.dimescheduler.com) for more information on the SDK. For everything else related to Dime.Scheduler, check out the [\uD83D\uDCDA official docs](https://docs.dimescheduler.com/).\n",
        "\n",
        "## What we will do\n",
        "\n",
        "This notebook is an interactive guide that will you show you to create a task in Dime.Scheduler. \n",
        "\n",
        "## What is a task\n",
        "\n",
        "A **task** is a unit of work that needs to be scheduled, and as such it could be anything:\n",
        "\n",
        "- Send a technician to the customer to fix the broken A/C\n",
        "- Assign a consultant to a project that you just sold\n",
        "- Manufacture a batch of orange juice\n",
        "- Assemble a bicycle\n",
        "- Rent out a piece of equipment\n",
        "\n",
        "**Tasks** are the low-level units of work, and they always belong to a **job**, which is the Dime.Scheduler equivalent of a service order, project, assembly order, sales order, etc. Jobs container master data such as customer information, contact information, addresses, etc.\n",
        "\n",
        "In what follows is a step-by-step guide that shows you how to use the SDK to create jobs and tasks. \n",
        "\n",
        "> We'll assume that a Dime.Scheduler instance is up and running, and accessible from the machine you're currently working on."
      ]
    },
    {
      "cell_type": "markdown",
      "metadata": {},
      "source": [
        "## Step 1: Retrieving the bits and bytes\n",
        "\n",
        "All logic to interact with Dime.Scheduler is contained in the `Dime.Scheduler.Sdk` NuGet package, which is available [here](https://www.nuget.org/packages/Dime.Scheduler.Sdk/). The instruction below will fetch this package, which we will invoke once it's been downloaded."
      ]
    },
    {
      "cell_type": "code",
      "execution_count": 1,
      "metadata": {
        "dotnet_interactive": {
          "language": "csharp"
        }
      },
      "source": [
        "#r \"nuget:Dime.Scheduler.Sdk, 1.0.0-beta.12\""
      ],
      "outputs": [
        {
          "output_type": "execute_result",
          "data": {
            "text/html": "<div><div></div><div></div><div><strong>Installed Packages</strong><ul><li><span>Dime.Scheduler.Sdk, 1.0.0-beta.12</span></li></ul></div></div>"
          },
          "execution_count": 1,
          "metadata": {}
        }
      ]
    },
    {
      "cell_type": "markdown",
      "metadata": {},
      "source": [
        "## Step 2: Adding references to the SDK\n",
        "\n",
        "Now that the package is loaded, we can start having some fun.  We'll start by adding a reference to the SDK in the code, so the compiler knows what we're talking about:"
      ]
    },
    {
      "cell_type": "code",
      "execution_count": 1,
      "metadata": {
        "dotnet_interactive": {
          "language": "csharp"
        }
      },
      "source": [
        "using Dime.Scheduler.Sdk;"
      ],
      "outputs": []
    },
    {
      "cell_type": "markdown",
      "metadata": {},
      "source": [
        "## Step 3: Credentials\n",
        "\n",
        "A regular Dime.Scheduler forms account with a **user name** (i.e. email addresss) and a **password** is enough to connect with Dime.Scheduler. An obviously we'll need the **URI** where your Dime.Scheduler instance is hosted.\n",
        "Then we'll construct an instance of the `FormsAuthenticator` class, which takes the three pieces of data marked in bold."
      ]
    },
    {
      "cell_type": "code",
      "execution_count": 1,
      "metadata": {
        "dotnet_interactive": {
          "language": "csharp"
        }
      },
      "source": [
        "string uri = \"http://ds-vnext-test.azurewebsites.net/\";\n",
        "string user = \"hendrik@dimescheduler.com\";\n",
        "string pw =  \"Admin!1\";\n",
        "IAuthenticator authenticator = new FormsAuthenticator(uri, user, pw);"
      ],
      "outputs": []
    },
    {
      "cell_type": "markdown",
      "metadata": {},
      "source": [
        "## Step 4: Accessing the endpoint\n",
        "\n",
        "At this point, no contact has been made yet with Dime.Scheduler.  The entry point of the SDK is the `DimeSchedulerClient` class, which takes two parameters: the URI to Dime.Scheduler and an instance of `IAuthenticator`.\n",
        "The `DimeSchedulerClient` gives you access to all the supported endpoints. By far, the most important endpoint is the `Import` endpoint.\n",
        "\n",
        "When you invoke the `Request` method, this will start an instance of that endpoint and open the context. In other words, it will open up an authenticated line with Dime.Scheduler and you'll be able to transfer data securely to the planning tool. If you have entered invalid credentials or an inaccessible URI, you will get an exception here. If not, you may assume all is well."
      ]
    },
    {
      "cell_type": "code",
      "execution_count": 1,
      "metadata": {
        "dotnet_interactive": {
          "language": "csharp"
        }
      },
      "source": [
        "DimeSchedulerClient client = new(uri, authenticator);\n",
        "IImportEndpoint importEndpoint = await client.Import.Request();"
      ],
      "outputs": []
    },
    {
      "cell_type": "markdown",
      "metadata": {},
      "source": [
        "## Step 5: Constructing the request\n",
        "\n",
        "The `Dime.Scheduler.Sdk.Import` namespace holds all the models which you may insert in the `Import` endpoint. Essentially, any class that imports the `IImportRequestable` interface is accepted by the import pipeline.\n",
        "\n",
        "As mentioned at the beginning of this notebook, to create task, we actually need to provide two entities:\n",
        "\n",
        "- The **job**, which holds a set of tasks. Think of a job as a project and a task of one of the many activities that need to be done to finish the project\n",
        "- The *task* itself, which must refer to a job that is already available in Dime.Scheduler\n",
        "\n",
        "A job, therefore, is not always necessary. If the job is already available, you may skip step 5A, but make sure to use the correct `JobNo` value in step 5B."
      ]
    },
    {
      "cell_type": "markdown",
      "metadata": {},
      "source": [
        "### Step 5A: Creating a job\n",
        "\n",
        "The job model contains a lot of information. So much that we've created a `JobBuilder` class to facilitate the creation of these objects. \n",
        "Most of the fields speak for themselves, although we should highlight the following three fields:\n",
        "\n",
        "- **Source App**: this is a unique identifier that tells to which back-office system this job (and the subsequent tasks) belongs to.\n",
        "- **Source Type**: this is a unique identifier that tells the underlying back-office system what module this job (and the subsequent tasks) belongs to\n",
        "- **Job No**: this is a unique identifier which must exist in Dime.Scheduler before a task can be created."
      ]
    },
    {
      "cell_type": "code",
      "execution_count": 1,
      "metadata": {
        "dotnet_interactive": {
          "language": "csharp"
        }
      },
      "source": [
        "using Dime.Scheduler.Sdk.Import;\n",
        "using Dime.Scheduler.Sdk.Import.Builder;\n",
        "\n",
        "string sourceApp = \"NOTEBOOK\";\n",
        "string sourceType = \"SERVICE\";\n",
        "\n",
        "Job newJobToCreate = new JobBuilder()\n",
        "    .WithJob(sourceApp, sourceType, \"NB0001\", \"Yearly maintenance & repair job\", \"Yearly service\", \"Simon Pecker\")\n",
        "    .WithCustomer(new Customer\n",
        "    {\n",
        "        Email = \"hq@customer.com\",\n",
        "        Name = \"HQ London\",\n",
        "        No = \"HQ_LONDON\",\n",
        "        Phone = \"123 423 091\",\n",
        "        Reference = \"REF\"\n",
        "    })\n",
        "    .Create();\n",
        ""
      ],
      "outputs": []
    },
    {
      "cell_type": "markdown",
      "metadata": {},
      "source": [
        "The last step is to invoke the request and let the import pipeline of Dime.Scheduler do its job. To insert or update, use the `TransactionType.Append` value. To delete, you can specify ` TransactionType.Delete`. "
      ]
    },
    {
      "cell_type": "code",
      "execution_count": 1,
      "metadata": {
        "dotnet_interactive": {
          "language": "csharp"
        }
      },
      "source": [
        "await importEndpoint.ProcessAsync(newJobToCreate, TransactionType.Append);"
      ],
      "outputs": []
    },
    {
      "cell_type": "markdown",
      "metadata": {},
      "source": [
        "### Step 5B: Creating a task\n",
        "\n",
        "Once the job is created, we can go ahead and link a task to that job. It is important that the source app, type, and job no link to the right job. And lastly, the **Task No** field is an unique identifier that can be used by both Dime.Scheduler and the back-office system so they understand this is the same task."
      ]
    },
    {
      "cell_type": "code",
      "execution_count": 1,
      "metadata": {
        "dotnet_interactive": {
          "language": "csharp"
        }
      },
      "source": [
        "Task newTaskToCreate = new Task() \n",
        "{\n",
        "\tSourceApp = sourceApp,\n",
        "\tSourceType = sourceType,\n",
        "\tJobNo = \"NB0001\", // There must be a job in the database that holds this value\n",
        "\tTaskNo = \"NO0001_2022_ROOM6\",\n",
        "\tDescription= \"Service air conditioning in room #6\",\n",
        "\tShortDescription= \"Service air conditioning in room #6\"\n",
        "};"
      ],
      "outputs": []
    },
    {
      "cell_type": "markdown",
      "metadata": {},
      "source": [
        "And finally, invoke the request:"
      ]
    },
    {
      "cell_type": "code",
      "execution_count": 1,
      "metadata": {
        "dotnet_interactive": {
          "language": "csharp"
        }
      },
      "source": [
        "await importEndpoint.ProcessAsync(newTaskToCreate, TransactionType.Append);"
      ],
      "outputs": []
    },
    {
      "cell_type": "markdown",
      "metadata": {},
      "source": [
        "So there you go, you've just created a task in Dime.Scheduler and should be now available in the open task list. So now it's time to stop puzzling and start planning!"
      ]
    }
  ],
  "metadata": {
    "kernelspec": {
      "display_name": ".NET (C#)",
      "language": "C#",
      "name": ".net-csharp"
    },
    "language_info": {
      "file_extension": ".cs",
      "mimetype": "text/x-csharp",
      "name": "C#",
      "pygments_lexer": "csharp",
      "version": "8.0"
    }
  },
  "nbformat": 4,
  "nbformat_minor": 4
}