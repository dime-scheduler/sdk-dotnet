{
  "cells": [
    {
      "cell_type": "markdown",
      "metadata": {},
      "source": [
        "# Creating a resource in Dime.Scheduler with the SDK\n",
        "\n",
        "Check out the [📚 official docs](https://docs.dimescheduler.com/) for more information.\n",
        "\n",
        "## What we will do\n",
        "\n",
        "This notebook is an interactive guide that will you show you to create a resource in Dime.Scheduler. \n",
        "\n",
        "## What is a resource\n",
        "\n",
        "A **resource** is an entity that can be planned, and as such it could be anything:\n",
        "\n",
        "- Technicians\n",
        "- Production line\n",
        "- Vehicle\n",
        "- Consultant\n",
        "\n",
        "In what follows is a step-by-step guide that shows you how to use the SDK to create a resource."
      ]
    },
    {
      "cell_type": "markdown",
      "metadata": {},
      "source": [
        "## Step 1: Retrieving the bits and bytes\n",
        "\n",
        "All logic to interact with Dime.Scheduler is contained in the `Dime.Scheduler.Sdk` NuGet package, which is available [here](https://www.nuget.org/packages/Dime.Scheduler.Sdk/). The instruction below will fetch this package, which we will invoke once it's been downloaded."
      ]
    },
    {
      "cell_type": "code",
      "execution_count": null,
      "metadata": {
        "dotnet_interactive": {
          "language": "csharp"
        },
        "vscode": {
          "languageId": "polyglot-notebook"
        }
      },
      "outputs": [],
      "source": [
        "#r \"nuget:Dime.Scheduler.Sdk, 2.0.0-alpha.18\""
      ]
    },
    {
      "cell_type": "markdown",
      "metadata": {},
      "source": [
        "## Step 2: Adding references to the SDK\n",
        "\n",
        "Now that the package is loaded, we can start having some fun.  We'll start by adding a reference to the SDK in the code, so the compiler knows what we're talking about:"
      ]
    },
    {
      "cell_type": "code",
      "execution_count": null,
      "metadata": {
        "dotnet_interactive": {
          "language": "csharp"
        },
        "vscode": {
          "languageId": "polyglot-notebook"
        }
      },
      "outputs": [],
      "source": [
        "using Dime.Scheduler.Sdk;"
      ]
    },
    {
      "cell_type": "markdown",
      "metadata": {},
      "source": [
        "## Step 3: Instantiating the DimeSchedulerClient class\n",
        "\n",
        "The only requirement is to have a Dime.Scheduler API, which you can generate in the app. \n",
        "An optional override in `DimeSchedulerClient` makes it possible to change environment."
      ]
    },
    {
      "cell_type": "code",
      "execution_count": null,
      "metadata": {
        "dotnet_interactive": {
          "language": "csharp"
        },
        "vscode": {
          "languageId": "polyglot-notebook"
        }
      },
      "outputs": [],
      "source": [
        "string key = \"DS-49WHSIU3W-6QQ6C3Z8-QVSJRG2P-PVI6HW\";\n",
        "DimeSchedulerClient client = new DimeSchedulerClient(\"https://test.api.dimescheduler.com\", key);"
      ]
    },
    {
      "cell_type": "markdown",
      "metadata": {},
      "source": [
        "## Step 4: Creating a resource\n",
        "\n",
        "The SDK contains all the models you can interact with as C# classes. Just pick the model of interest and instantiate it with the right set of properties."
      ]
    },
    {
      "cell_type": "code",
      "execution_count": null,
      "metadata": {
        "dotnet_interactive": {
          "language": "csharp"
        },
        "vscode": {
          "languageId": "polyglot-notebook"
        }
      },
      "outputs": [],
      "source": [
        "using i = Dime.Scheduler.Sdk.Import;\n",
        "\n",
        "i.Resource newResourceToCreate = new i.Resource() \n",
        "{\t\n",
        "\tResourceNo = \"MAXPOWER\",     \n",
        "\tDisplayName = \"Max Power\",\n",
        "    Department = \"Manufacturing\",        \n",
        "    Email = \"max.power@mycompany.com\"    \n",
        "};"
      ]
    },
    {
      "cell_type": "markdown",
      "metadata": {},
      "source": [
        "The last step is to call the API through the SDK and let Dime.Scheduler do its job."
      ]
    },
    {
      "cell_type": "code",
      "execution_count": null,
      "metadata": {
        "dotnet_interactive": {
          "language": "csharp"
        },
        "vscode": {
          "languageId": "polyglot-notebook"
        }
      },
      "outputs": [],
      "source": [
        "client.Resources.CreateAsync(newResourceToCreate);"
      ]
    },
    {
      "cell_type": "markdown",
      "metadata": {},
      "source": [
        "So there you go, you've just created a resource in Dime.Scheduler and should be now available in the planning board's resource list. So now it's time to stop puzzling and start planning!"
      ]
    }
  ],
  "metadata": {
    "kernelspec": {
      "display_name": "Python 3",
      "language": "python",
      "name": "python3"
    },
    "language_info": {
      "codemirror_mode": {
        "name": "ipython",
        "version": 3
      },
      "file_extension": ".py",
      "mimetype": "text/x-python",
      "name": "python",
      "nbconvert_exporter": "python",
      "pygments_lexer": "ipython3",
      "version": "3.11.6"
    }
  },
  "nbformat": 4,
  "nbformat_minor": 4
}
