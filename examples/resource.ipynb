{
  "cells": [
    {
      "cell_type": "markdown",
      "metadata": {},
      "source": [
        "# Creating a resource in Dime.Scheduler with the SDK\n",
        "\n",
        "Check out the [\uD83D\uDCDA docs »](https://sdk.dimescheduler.com) for more information on the SDK. For everything else related to Dime.Scheduler, check out the [\uD83D\uDCDA official docs](https://docs.dimescheduler.com/).\n",
        "\n",
        "## What we will do\n",
        "\n",
        "This notebook is an interactive guide that will you show you to create a resource in Dime.Scheduler. \n",
        "\n",
        "## What is a resource\n",
        "\n",
        "A **resource** is an entity that can be planned, and as such it could be anything:\n",
        "\n",
        "- Technicians\n",
        "- Production line\n",
        "- Vehicle\n",
        "- Consultant\n",
        "\n",
        "In what follows is a step-by-step guide that shows you how to use the SDK to create a resource.\n",
        "\n",
        "> We'll assume that a Dime.Scheduler instance is up and running, and accessible from the machine you're currently working on."
      ]
    },
    {
      "cell_type": "markdown",
      "metadata": {},
      "source": [
        "## Step 1: Retrieving the bits and bytes\n",
        "\n",
        "All logic to interact with Dime.Scheduler is contained in the `Dime.Scheduler.Sdk` NuGet package, which is available [here](https://www.nuget.org/packages/Dime.Scheduler.Sdk/). The instruction below will fetch this package, which we will invoke once it's been downloaded."
      ]
    },
    {
      "cell_type": "code",
      "execution_count": 1,
      "metadata": {
        "dotnet_interactive": {
          "language": "csharp"
        }
      },
      "source": [
        "#r \"nuget:Dime.Scheduler.Sdk, 1.0.0-beta.12\""
      ],
      "outputs": [
        {
          "output_type": "execute_result",
          "data": {
            "text/html": "<div><div></div><div></div><div><strong>Installed Packages</strong><ul><li><span>Dime.Scheduler.Sdk, 1.0.0-beta.12</span></li></ul></div></div>"
          },
          "execution_count": 1,
          "metadata": {}
        }
      ]
    },
    {
      "cell_type": "markdown",
      "metadata": {},
      "source": [
        "## Step 2: Adding references to the SDK\n",
        "\n",
        "Now that the package is loaded, we can start having some fun.  We'll start by adding a reference to the SDK in the code, so the compiler knows what we're talking about:"
      ]
    },
    {
      "cell_type": "code",
      "execution_count": 1,
      "metadata": {
        "dotnet_interactive": {
          "language": "csharp"
        }
      },
      "source": [
        "using Dime.Scheduler.Sdk;"
      ],
      "outputs": []
    },
    {
      "cell_type": "markdown",
      "metadata": {},
      "source": [
        "## Step 3: Credentials\n",
        "\n",
        "A regular Dime.Scheduler forms account with a **user name** (i.e. email addresss) and a **password** is enough to connect with Dime.Scheduler. And obviously we'll need the **URI** where your Dime.Scheduler instance is hosted.\n",
        "Then we'll construct an instance of the `FormsAuthenticator` class, which takes the three pieces of data marked in bold."
      ]
    },
    {
      "cell_type": "code",
      "execution_count": 1,
      "metadata": {
        "dotnet_interactive": {
          "language": "csharp"
        }
      },
      "source": [
        "string uri = \"http://ds-vnext-test.azurewebsites.net/\";\n",
        "string user = \"hendrik@dimescheduler.com\";\n",
        "string pw =  \"Admin!1\";\n",
        "IAuthenticator authenticator = new FormsAuthenticator(uri, user, pw);"
      ],
      "outputs": []
    },
    {
      "cell_type": "markdown",
      "metadata": {},
      "source": [
        "## Step 4: Accessing the endpoint\n",
        "\n",
        "At this point, no contact has been made yet with Dime.Scheduler.  The entry point of the SDK is the `DimeSchedulerClient` class, which takes two parameters: the URI to Dime.Scheduler and an instance of `IAuthenticator`.\n",
        "The `DimeSchedulerClient` gives you access to all the supported endpoints. By far, the most important endpoint is the `Import` endpoint.\n",
        "\n",
        "When you invoke the `Request` method, this will start an instance of that endpoint and open the context. In other words, it will open up an authenticated line with Dime.Scheduler and you'll be able to transfer data securely to the planning tool. If you have entered invalid credentials or an inaccessible URI, you will get an exception here. If not, you may assume all is well."
      ]
    },
    {
      "cell_type": "code",
      "execution_count": 1,
      "metadata": {
        "dotnet_interactive": {
          "language": "csharp"
        }
      },
      "source": [
        "DimeSchedulerClient client = new(uri, authenticator);\n",
        "IImportEndpoint importEndpoint = await client.Import.Request();"
      ],
      "outputs": []
    },
    {
      "cell_type": "markdown",
      "metadata": {},
      "source": [
        "### Step 5: Creating a resource\n",
        "\n",
        "The `Dime.Scheduler.Sdk.Import` namespace holds all the models which you may insert in the `Import` endpoint. Essentially, any class that imports the `IImportRequestable` interface is accepted by the import pipeline. In this case, we'll construct an instance of the `Resource` class."
      ]
    },
    {
      "cell_type": "code",
      "execution_count": 1,
      "metadata": {
        "dotnet_interactive": {
          "language": "csharp"
        }
      },
      "source": [
        "using i = Dime.Scheduler.Sdk.Import;\n",
        "\n",
        "i.Resource newResourceToCreate = new i.Resource() \n",
        "{\t\n",
        "\tResourceNo = \"MAXPOWER\",     \n",
        "\tDisplayName = \"Max Power\",\n",
        "    Department = \"Manufacturing\",        \n",
        "    Email = \"max.power@mycompany.com\"    \n",
        "};"
      ],
      "outputs": []
    },
    {
      "cell_type": "markdown",
      "metadata": {},
      "source": [
        "The last step is to invoke the request and let the import pipeline of Dime.Scheduler do its job. To insert or update, use the `TransactionType.Append` value. To delete, you can specify ` TransactionType.Delete`. "
      ]
    },
    {
      "cell_type": "markdown",
      "metadata": {},
      "source": [
        "And finally, invoke the request:"
      ]
    },
    {
      "cell_type": "code",
      "execution_count": 1,
      "metadata": {
        "dotnet_interactive": {
          "language": "csharp"
        }
      },
      "source": [
        "await importEndpoint.ProcessAsync(newResourceToCreate, TransactionType.Append);"
      ],
      "outputs": []
    },
    {
      "cell_type": "markdown",
      "metadata": {},
      "source": [
        "So there you go, you've just created a resource in Dime.Scheduler and should be now available in the planning board's resource list. So now it's time to stop puzzling and start planning!"
      ]
    }
  ],
  "metadata": {
    "kernelspec": {
      "display_name": ".NET (C#)",
      "language": "C#",
      "name": ".net-csharp"
    },
    "language_info": {
      "file_extension": ".cs",
      "mimetype": "text/x-csharp",
      "name": "C#",
      "pygments_lexer": "csharp",
      "version": "8.0"
    }
  },
  "nbformat": 4,
  "nbformat_minor": 4
}